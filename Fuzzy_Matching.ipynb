{
 "cells": [
  {
   "cell_type": "code",
   "execution_count": 1,
   "metadata": {},
   "outputs": [
    {
     "name": "stderr",
     "output_type": "stream",
     "text": [
      "C:\\Users\\290002494\\AppData\\Local\\Continuum\\anaconda3\\lib\\site-packages\\fuzzywuzzy\\fuzz.py:11: UserWarning: Using slow pure-python SequenceMatcher. Install python-Levenshtein to remove this warning\n",
      "  warnings.warn('Using slow pure-python SequenceMatcher. Install python-Levenshtein to remove this warning')\n"
     ]
    }
   ],
   "source": [
    "#import library for string matching.\n",
    "from fuzzywuzzy import fuzz"
   ]
  },
  {
   "cell_type": "markdown",
   "metadata": {},
   "source": [
    "String matching using levhenstein distance mostly giving a score between 0 - 100. If you want to do at a large scale need python-Levenshtein so its faster as noted in the warning message"
   ]
  },
  {
   "cell_type": "markdown",
   "metadata": {},
   "source": [
    "Option 1: Direct string match. Best to use if only looking at one or two words and think the error is a typo"
   ]
  },
  {
   "cell_type": "code",
   "execution_count": 6,
   "metadata": {},
   "outputs": [
    {
     "name": "stdout",
     "output_type": "stream",
     "text": [
      "Synchrony Financial vs Synchrony Financal => 97\n",
      "Synchrony Financial vs Synchrony => 64\n",
      "123 ABC Streeet Apt 3 vs 123 abc st #3 => 73\n",
      "Synchrony Financial vs Chase Bank => 28\n",
      "123 ABC Street Apt 3 vs 123 => 26\n"
     ]
    }
   ],
   "source": [
    "#slight typo\n",
    "print(\"Synchrony Financial vs Synchrony Financal =>\",fuzz.ratio(\"Synchrony Financial\", \"Synchrony Financal\"))\n",
    "print(\"Synchrony Financial vs Synchrony =>\",fuzz.ratio(\"Synchrony Financial\", \"Synchrony\"))\n",
    "print(\"123 ABC Streeet Apt 3 vs 123 abc st #3 =>\",fuzz.ratio(\"123 ABC Street Apt 3\".lower(), \"123 ABC St #3\".lower()))\n",
    "print(\"Synchrony Financial vs Chase Bank =>\",fuzz.ratio(\"Synchrony Financial\", \"Chase Bank\"))\n",
    "print(\"123 ABC Street Apt 3 vs 123 =>\",fuzz.ratio(\"123 ABC Street Apt 3\", \"123\"))"
   ]
  },
  {
   "cell_type": "markdown",
   "metadata": {},
   "source": [
    "Option 2: Partial string match. Better at inconsistent substrings which can help find similarities when strings are of different lengths. Basically is concerned with the best matching pattern it can find. Note this can perhaps give unwanted results in some instances as is showed in the examples below"
   ]
  },
  {
   "cell_type": "code",
   "execution_count": 5,
   "metadata": {},
   "outputs": [
    {
     "name": "stdout",
     "output_type": "stream",
     "text": [
      "Synchrony Financial vs Synchrony Financal => 94\n",
      "Synchrony Financial vs Synchrony => 100\n",
      "123 ABC Streeet Apt 3 vs 123 abc st #3 => 46\n",
      "Synchrony Financial vs Chase Bank => 30\n",
      "123 ABC Street Apt 3 vs 123 => 100\n"
     ]
    }
   ],
   "source": [
    "print(\"Synchrony Financial vs Synchrony Financal =>\",fuzz.partial_ratio(\"Synchrony Financial\", \"Synchrony Financal\"))\n",
    "print(\"Synchrony Financial vs Synchrony =>\",fuzz.partial_ratio(\"Synchrony Financial\", \"Synchrony\"))\n",
    "print(\"123 ABC Streeet Apt 3 vs 123 abc st #3 =>\",fuzz.partial_ratio(\"123 ABC Street Apt 3\", \"123 abc st #3\"))\n",
    "print(\"Synchrony Financial vs Chase Bank =>\",fuzz.partial_ratio(\"Synchrony Financial\", \"Chase Bank\"))\n",
    "print(\"123 ABC Street Apt 3 vs 123 =>\",fuzz.partial_ratio(\"123 ABC Street Apt 3\", \"123\"))"
   ]
  },
  {
   "cell_type": "markdown",
   "metadata": {},
   "source": [
    "Option 3: Token Sort. Takes all available words, tokenizes them, sorts them and then joins them back into the string for a more wholistic match. Normally good for phrases where most words should be the same or similar prefixes"
   ]
  },
  {
   "cell_type": "code",
   "execution_count": 8,
   "metadata": {},
   "outputs": [
    {
     "name": "stdout",
     "output_type": "stream",
     "text": [
      "Synchrony Financial vs Synchrony Financal => 97\n",
      "Synchrony Financial vs Synchrony => 64\n",
      "123 ABC Street Apt 3 vs 123 abc st #3 => 75\n",
      "Synchrony Financial vs Chase Bank => 34\n",
      "123 ABC Street Apt 3 vs 123 => 26\n"
     ]
    }
   ],
   "source": [
    "print(\"Synchrony Financial vs Synchrony Financal =>\",fuzz.token_sort_ratio(\"Synchrony Financial\", \"Synchrony Financal\"))\n",
    "print(\"Synchrony Financial vs Synchrony =>\",fuzz.token_sort_ratio(\"Synchrony Financial\", \"Synchrony\"))\n",
    "print(\"123 ABC Street Apt 3 vs 123 abc st #3 =>\",fuzz.token_sort_ratio(\"123 ABC Street Apt 3\", \"123 abc st #3\"))\n",
    "print(\"Synchrony Financial vs Chase Bank =>\",fuzz.token_sort_ratio(\"Synchrony Financial\", \"Chase Bank\"))\n",
    "print(\"123 ABC Street Apt 3 vs 123 =>\",fuzz.token_sort_ratio(\"123 ABC Street Apt 3\", \"123\"))"
   ]
  },
  {
   "cell_type": "markdown",
   "metadata": {},
   "source": [
    "Option 4: Token Set. Similar to Token sort but separates the string into two parts: intersection and remainder. Good for when you think you'll have a fair amount of overlap in your phrases and some excess words that may still be related but the characters aren't exactly the same"
   ]
  },
  {
   "cell_type": "code",
   "execution_count": 12,
   "metadata": {},
   "outputs": [
    {
     "name": "stdout",
     "output_type": "stream",
     "text": [
      "Synchrony Financial vs Synchrony Financal => 97\n",
      "Synchrony Financial vs Synchrony => 100\n",
      "123 ABC Streeet Apt 3 vs 123 abc st #3 => 86\n",
      "Synchrony Financial vs Chase Bank => 34\n",
      "123 ABC Street Apt 3 vs 123 => 100\n"
     ]
    }
   ],
   "source": [
    "print(\"Synchrony Financial vs Synchrony Financal =>\",fuzz.token_set_ratio(\"Synchrony Financial\", \"Synchrony Financal\"))\n",
    "print(\"Synchrony Financial vs Synchrony =>\",fuzz.token_set_ratio(\"Synchrony Financial\", \"Synchrony\"))\n",
    "print(\"123 ABC Streeet Apt 3 vs 123 abc st #3 =>\",fuzz.token_set_ratio(\"123 ABC Street Apt 3\", \"123 abc st #3\"))\n",
    "print(\"Synchrony Financial vs Chase Bank =>\",fuzz.token_set_ratio(\"Synchrony Financial\", \"Chase Bank\"))\n",
    "print(\"123 ABC Street Apt 3 vs 123 =>\",fuzz.token_set_ratio(\"123 ABC Street Apt 3\", \"123\"))"
   ]
  },
  {
   "cell_type": "markdown",
   "metadata": {},
   "source": [
    "There is no perfect method for every scenario. Based on your data and types of differences you think you will find, choose the appropriate method or methods"
   ]
  },
  {
   "cell_type": "markdown",
   "metadata": {},
   "source": [
    "Other things that can help match strings is to do data cleaning before attempting to match. For example, making everything the same case, change Lane => ln, apartment => apt, road => rd, etc. to have a common pattern for comparison"
   ]
  }
 ],
 "metadata": {
  "kernelspec": {
   "display_name": "Python 3",
   "language": "python",
   "name": "python3"
  },
  "language_info": {
   "codemirror_mode": {
    "name": "ipython",
    "version": 3
   },
   "file_extension": ".py",
   "mimetype": "text/x-python",
   "name": "python",
   "nbconvert_exporter": "python",
   "pygments_lexer": "ipython3",
   "version": "3.6.4"
  }
 },
 "nbformat": 4,
 "nbformat_minor": 2
}
